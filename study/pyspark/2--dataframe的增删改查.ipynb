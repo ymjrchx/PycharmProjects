{
 "cells": [
  {
   "cell_type": "code",
   "execution_count": 75,
   "metadata": {},
   "outputs": [
    {
     "name": "stdout",
     "output_type": "stream",
     "text": [
      "+------+----+----+----+\n",
      "|  姓名|年龄|体重|学历|\n",
      "+------+----+----+----+\n",
      "|zhang3|  18|65.5|高中|\n",
      "|   li4|  19|50.2|本科|\n",
      "| wang5|  20|61.2|本科|\n",
      "| zhao6|  21|50.8|本科|\n",
      "|zheng7|  22|77.2|硕士|\n",
      "| zhou8|  22|80.7|硕士|\n",
      "+------+----+----+----+\n",
      "\n",
      "+------+----+----+----+\n",
      "|  姓名|年龄|体重|学历|\n",
      "+------+----+----+----+\n",
      "|zhang3|  18|65.5|高中|\n",
      "|   li4|  19|50.3|本科|\n",
      "| wang5|  20|null|本科|\n",
      "| zhao6|  21|null|null|\n",
      "|zheng7|  22|77.2|null|\n",
      "| zhou8|  22|80.7|硕士|\n",
      "+------+----+----+----+\n",
      "\n",
      "+------+---+----+----+\n",
      "|  姓名|age|体重|学历|\n",
      "+------+---+----+----+\n",
      "|zhang3| 18|65.5|高中|\n",
      "|   li4| 19|50.2|本科|\n",
      "| wang5| 20|61.2|本科|\n",
      "| zhao6| 21|50.8|本科|\n",
      "|zheng7| 22|77.2|硕士|\n",
      "| zhou8| 22|80.7|硕士|\n",
      "+------+---+----+----+\n",
      "\n",
      "+------+---+----+----+\n",
      "|  姓名|age|体重|学历|\n",
      "+------+---+----+----+\n",
      "|zhang3| 18|65.5|高中|\n",
      "|   li4| 19|50.2|本科|\n",
      "|   li4| 19|50.2|本科|\n",
      "+------+---+----+----+\n",
      "\n"
     ]
    }
   ],
   "source": [
    "from pyspark.sql import SparkSession\n",
    "spark = SparkSession.builder.master(\"local\").appName(\"spark-python\").getOrCreate()\n",
    "\n",
    "df = spark.createDataFrame(\n",
    "    [\n",
    "        ['zhang3', 18, 65.5, '高中'],\n",
    "        ['li4',19, 50.2, '本科'],\n",
    "        ['wang5', 20,61.2, '本科'],\n",
    "        ['zhao6', 21, 50.8, '本科'],\n",
    "        ['zheng7', 22, 77.2, '硕士'],\n",
    "        ['zhou8',22, 80.7, '硕士'],\n",
    "    ], schema=['姓名','年龄','体重','学历']\n",
    ")\n",
    "#制造几个空值\n",
    "df2 = spark.createDataFrame(\n",
    "    [\n",
    "        ['zhang3', 18, 65.5, '高中'],\n",
    "        ['li4',19, 50.3, '本科'],\n",
    "        ['wang5', 20,None, '本科'],\n",
    "        ['zhao6', 21, None, None],\n",
    "        ['zheng7', 22, 77.2, None],\n",
    "        ['zhou8',22, 80.7, '硕士'],\n",
    "    ], schema=['姓名','年龄','体重','学历']\n",
    ")\n",
    "#把姓名改成age，下面会用到\n",
    "df3 = spark.createDataFrame(\n",
    "    [\n",
    "        ['zhang3', 18, 65.5, '高中'],\n",
    "        ['li4',19, 50.2, '本科'],\n",
    "        ['wang5', 20,61.2, '本科'],\n",
    "        ['zhao6', 21, 50.8, '本科'],\n",
    "        ['zheng7', 22, 77.2, '硕士'],\n",
    "        ['zhou8',22, 80.7, '硕士'],\n",
    "    ], schema=['姓名','age','体重','学历']\n",
    ")\n",
    "#设置重复值\n",
    "df4 = spark.createDataFrame(\n",
    "    [\n",
    "        ['zhang3', 18, 65.5, '高中'],\n",
    "        ['li4',19, 50.2, '本科'],\n",
    "        ['li4',19, 50.2, '本科']\n",
    "    ], schema=['姓名','age','体重','学历']\n",
    ")\n",
    "df.show()\n",
    "df2.show()\n",
    "df3.show()\n",
    "df4.show()\n"
   ]
  },
  {
   "cell_type": "code",
   "execution_count": 76,
   "metadata": {},
   "outputs": [
    {
     "name": "stdout",
     "output_type": "stream",
     "text": [
      "+------+----+----+----+\n",
      "|  姓名|年龄|体重|学历|\n",
      "+------+----+----+----+\n",
      "|zhang3|  18|65.5|高中|\n",
      "|   li4|  19|50.3|本科|\n",
      "| wang5|  20|50.2|本科|\n",
      "| zhao6|  21|50.2|本科|\n",
      "|zheng7|  22|77.2|本科|\n",
      "| zhou8|  22|80.7|硕士|\n",
      "+------+----+----+----+\n",
      "\n"
     ]
    }
   ],
   "source": [
    "#缺失值填充\n",
    "df2.na.fill({'体重': 50.2, '学历': '本科'}).show()"
   ]
  },
  {
   "cell_type": "code",
   "execution_count": 77,
   "metadata": {},
   "outputs": [
    {
     "data": {
      "text/plain": [
       "[('姓名', 'string'), ('年龄', 'bigint'), ('体重', 'double'), ('学历', 'string')]"
      ]
     },
     "execution_count": 77,
     "metadata": {},
     "output_type": "execute_result"
    }
   ],
   "source": [
    "# 1.查看字段类型\n",
    "df.dtypes"
   ]
  },
  {
   "cell_type": "code",
   "execution_count": 78,
   "metadata": {},
   "outputs": [
    {
     "data": {
      "text/plain": [
       "(['姓名', '年龄', '体重', '学历'], 4)"
      ]
     },
     "execution_count": 78,
     "metadata": {},
     "output_type": "execute_result"
    }
   ],
   "source": [
    "# 2.查看列名\n",
    "df.columns, len(df.columns)"
   ]
  },
  {
   "cell_type": "code",
   "execution_count": 79,
   "metadata": {},
   "outputs": [
    {
     "data": {
      "text/plain": [
       "6"
      ]
     },
     "execution_count": 79,
     "metadata": {},
     "output_type": "execute_result"
    }
   ],
   "source": [
    "# 3.查看行数\n",
    "df.count()"
   ]
  },
  {
   "cell_type": "code",
   "execution_count": 80,
   "metadata": {},
   "outputs": [
    {
     "data": {
      "text/plain": [
       "DataFrame[name: string, 年龄: bigint, 体重: double, 学历: string]"
      ]
     },
     "execution_count": 80,
     "metadata": {},
     "output_type": "execute_result"
    }
   ],
   "source": [
    "# 4.重命名列名\n",
    "df.withColumnRenamed('姓名','name')"
   ]
  },
  {
   "cell_type": "code",
   "execution_count": 81,
   "metadata": {},
   "outputs": [],
   "source": [
    "# 5.选择和切片"
   ]
  },
  {
   "cell_type": "code",
   "execution_count": 82,
   "metadata": {},
   "outputs": [
    {
     "name": "stdout",
     "output_type": "stream",
     "text": [
      "root\n",
      " |-- 姓名: string (nullable = true)\n",
      " |-- 年龄: long (nullable = true)\n",
      " |-- 体重: double (nullable = true)\n",
      " |-- 学历: string (nullable = true)\n",
      "\n"
     ]
    }
   ],
   "source": [
    "df.printSchema()"
   ]
  },
  {
   "cell_type": "code",
   "execution_count": 83,
   "metadata": {},
   "outputs": [
    {
     "data": {
      "text/plain": [
       "DataFrame[年龄: bigint, 学历: string]"
      ]
     },
     "execution_count": 83,
     "metadata": {},
     "output_type": "execute_result"
    }
   ],
   "source": [
    "# 选择列（select）\n",
    "df.select('年龄') #单列\n",
    "df.select('年龄','学历') #两列\n",
    "df.select(df.年龄,df.学历) #两列"
   ]
  },
  {
   "cell_type": "code",
   "execution_count": 84,
   "metadata": {},
   "outputs": [
    {
     "data": {
      "text/plain": [
       "DataFrame[姓名: string, 年龄: bigint, 体重: double, 学历: string]"
      ]
     },
     "execution_count": 84,
     "metadata": {},
     "output_type": "execute_result"
    }
   ],
   "source": [
    "# 选择行（filter或where）\n",
    "df.filter(df.年龄>19)\n",
    "df.where(df.年龄.between(19,21)) #闭区间"
   ]
  },
  {
   "cell_type": "code",
   "execution_count": 85,
   "metadata": {},
   "outputs": [
    {
     "data": {
      "text/plain": [
       "DataFrame[年龄: bigint, 学历: string]"
      ]
     },
     "execution_count": 85,
     "metadata": {},
     "output_type": "execute_result"
    }
   ],
   "source": [
    "# 选择列+行\n",
    "df.select('年龄','学历').where(df.年龄.between(19,21))#闭区间"
   ]
  },
  {
   "cell_type": "code",
   "execution_count": 86,
   "metadata": {},
   "outputs": [
    {
     "name": "stdout",
     "output_type": "stream",
     "text": [
      "+------+----+----+----+\n",
      "|  姓名|年龄|体重|学历|\n",
      "+------+----+----+----+\n",
      "|zhang3|  18|65.5|高中|\n",
      "|   li4|  19|50.2|本科|\n",
      "| wang5|  20|61.2|本科|\n",
      "| zhao6|  21|50.8|本科|\n",
      "|zheng7|  22|77.2|硕士|\n",
      "| zhou8|  22|80.7|硕士|\n",
      "+------+----+----+----+\n",
      "\n"
     ]
    }
   ],
   "source": [
    "df.show()"
   ]
  },
  {
   "cell_type": "code",
   "execution_count": 87,
   "metadata": {},
   "outputs": [
    {
     "data": {
      "text/plain": [
       "DataFrame[age: bigint, 学历: string]"
      ]
     },
     "execution_count": 87,
     "metadata": {},
     "output_type": "execute_result"
    }
   ],
   "source": [
    "# 以上的方式，也可以用sql来选择\n",
    "df3.registerTempTable('person')\n",
    "spark.sql('select age,\"学历\" from person where \"年龄\">19') #英文不需要加双引号"
   ]
  },
  {
   "cell_type": "code",
   "execution_count": 88,
   "metadata": {},
   "outputs": [
    {
     "data": {
      "text/plain": [
       "[Row(姓名='zhang3', 年龄=18, 体重=65.5, 学历='高中'),\n",
       " Row(姓名='li4', 年龄=19, 体重=50.2, 学历='本科'),\n",
       " Row(姓名='wang5', 年龄=20, 体重=61.2, 学历='本科'),\n",
       " Row(姓名='zhao6', 年龄=21, 体重=50.8, 学历='本科'),\n",
       " Row(姓名='zheng7', 年龄=22, 体重=77.2, 学历='硕士'),\n",
       " Row(姓名='zhou8', 年龄=22, 体重=80.7, 学历='硕士')]"
      ]
     },
     "execution_count": 88,
     "metadata": {},
     "output_type": "execute_result"
    }
   ],
   "source": [
    "df.collect()"
   ]
  },
  {
   "cell_type": "code",
   "execution_count": 89,
   "metadata": {},
   "outputs": [
    {
     "name": "stdout",
     "output_type": "stream",
     "text": [
      "+------+----+----+----+\n",
      "|  姓名|年龄|体重|学历|\n",
      "+------+----+----+----+\n",
      "| zhou8|  22|80.7|硕士|\n",
      "|zheng7|  22|77.2|硕士|\n",
      "| zhao6|  21|50.8|本科|\n",
      "| wang5|  20|61.2|本科|\n",
      "|   li4|  19|50.2|本科|\n",
      "|zhang3|  18|65.5|高中|\n",
      "+------+----+----+----+\n",
      "\n"
     ]
    }
   ],
   "source": [
    "# 排序orderBy或sort\n",
    "df.orderBy(df.年龄.desc()).show()"
   ]
  },
  {
   "cell_type": "code",
   "execution_count": 90,
   "metadata": {},
   "outputs": [
    {
     "name": "stdout",
     "output_type": "stream",
     "text": [
      "+------+----+----+----+\n",
      "|  姓名|年龄|体重|学历|\n",
      "+------+----+----+----+\n",
      "| zhou8|  22|80.7|硕士|\n",
      "|zheng7|  22|77.2|硕士|\n",
      "| zhao6|  21|50.8|本科|\n",
      "| wang5|  20|61.2|本科|\n",
      "|   li4|  19|50.2|本科|\n",
      "|zhang3|  18|65.5|高中|\n",
      "+------+----+----+----+\n",
      "\n"
     ]
    }
   ],
   "source": [
    "df.sort(df.年龄.desc()).show()"
   ]
  },
  {
   "cell_type": "code",
   "execution_count": 91,
   "metadata": {},
   "outputs": [
    {
     "name": "stdout",
     "output_type": "stream",
     "text": [
      "+------+----+----+----+\n",
      "|  姓名|年龄|体重|学历|\n",
      "+------+----+----+----+\n",
      "|zhang3|  18|65.5|高中|\n",
      "|   li4|  19|50.2|本科|\n",
      "| wang5|  20|61.2|本科|\n",
      "| zhao6|  21|50.8|本科|\n",
      "|zheng7|  22|77.2|硕士|\n",
      "| zhou8|  22|80.7|硕士|\n",
      "+------+----+----+----+\n",
      "\n"
     ]
    }
   ],
   "source": [
    "df.orderBy('年龄',ascending=True).show()"
   ]
  },
  {
   "cell_type": "code",
   "execution_count": 92,
   "metadata": {},
   "outputs": [
    {
     "name": "stdout",
     "output_type": "stream",
     "text": [
      "+------+----+----+----+\n",
      "|  姓名|年龄|体重|学历|\n",
      "+------+----+----+----+\n",
      "|zhang3|  18|65.5|高中|\n",
      "|   li4|  19|50.2|本科|\n",
      "| wang5|  20|61.2|本科|\n",
      "| zhao6|  21|50.8|本科|\n",
      "|zheng7|  22|77.2|硕士|\n",
      "| zhou8|  22|80.7|硕士|\n",
      "+------+----+----+----+\n",
      "\n"
     ]
    }
   ],
   "source": [
    "df.sort('年龄',ascending=True).show()"
   ]
  },
  {
   "cell_type": "code",
   "execution_count": 93,
   "metadata": {},
   "outputs": [
    {
     "name": "stdout",
     "output_type": "stream",
     "text": [
      "+------+----+----+----+----+\n",
      "|  姓名|年龄|体重|学历|薪水|\n",
      "+------+----+----+----+----+\n",
      "|zhang3|  18|65.5|高中|   0|\n",
      "|   li4|  19|50.2|本科|   0|\n",
      "| wang5|  20|61.2|本科|   0|\n",
      "| zhao6|  21|50.8|本科|   0|\n",
      "|zheng7|  22|77.2|硕士|   0|\n",
      "| zhou8|  22|80.7|硕士|   0|\n",
      "+------+----+----+----+----+\n",
      "\n"
     ]
    }
   ],
   "source": [
    "# 增加列\n",
    "from pyspark.sql.functions import lit\n",
    "# df.withColumn('薪水',0)\n",
    "df.withColumn('薪水',lit(0)).show() # 新增加的列需要用lit赋值 scala已修改"
   ]
  },
  {
   "cell_type": "code",
   "execution_count": 94,
   "metadata": {},
   "outputs": [
    {
     "name": "stdout",
     "output_type": "stream",
     "text": [
      "+------+----+----+----+-----+\n",
      "|  姓名|年龄|体重|学历|年龄2|\n",
      "+------+----+----+----+-----+\n",
      "|zhang3|  18|65.5|高中|   16|\n",
      "|   li4|  19|50.2|本科|   17|\n",
      "| wang5|  20|61.2|本科|   18|\n",
      "| zhao6|  21|50.8|本科|   19|\n",
      "|zheng7|  22|77.2|硕士|   20|\n",
      "| zhou8|  22|80.7|硕士|   20|\n",
      "+------+----+----+----+-----+\n",
      "\n",
      "+------+----+----+----+-----+\n",
      "|  姓名|年龄|体重|学历|年龄2|\n",
      "+------+----+----+----+-----+\n",
      "|zhang3|  18|65.5|高中|   16|\n",
      "|   li4|  19|50.2|本科|   17|\n",
      "| wang5|  20|61.2|本科|   18|\n",
      "| zhao6|  21|50.8|本科|   19|\n",
      "|zheng7|  22|77.2|硕士|   20|\n",
      "| zhou8|  22|80.7|硕士|   20|\n",
      "+------+----+----+----+-----+\n",
      "\n"
     ]
    }
   ],
   "source": [
    "df.withColumn('年龄2',df['年龄']-2).show() #新增加的列可以通过另外一列的运算得到\n",
    "df.withColumn('年龄2',df.年龄-2).show() #新增加的列可以通过另外一列的运算得到"
   ]
  },
  {
   "cell_type": "code",
   "execution_count": 95,
   "metadata": {},
   "outputs": [
    {
     "name": "stdout",
     "output_type": "stream",
     "text": [
      "+------+---+----+----+----+\n",
      "|  姓名|age|体重|学历|age2|\n",
      "+------+---+----+----+----+\n",
      "|zhang3| 18|65.5|高中|  16|\n",
      "|   li4| 19|50.2|本科|  17|\n",
      "| wang5| 20|61.2|本科|  18|\n",
      "| zhao6| 21|50.8|本科|  19|\n",
      "|zheng7| 22|77.2|硕士|  20|\n",
      "| zhou8| 22|80.7|硕士|  20|\n",
      "+------+---+----+----+----+\n",
      "\n"
     ]
    }
   ],
   "source": [
    "df3.registerTempTable('person')\n",
    "spark.sql('select *,age-2 as age2 from person').show() #中文列名好像不支持，英文可以"
   ]
  },
  {
   "cell_type": "code",
   "execution_count": 96,
   "metadata": {},
   "outputs": [
    {
     "name": "stdout",
     "output_type": "stream",
     "text": [
      "+------+----+----+----+------------------+\n",
      "|  姓名|年龄|体重|学历|              rand|\n",
      "+------+----+----+----+------------------+\n",
      "|zhang3|  18|65.5|高中|2.0339167946307284|\n",
      "|   li4|  19|50.2|本科|2.0339167946307284|\n",
      "| wang5|  20|61.2|本科|2.0339167946307284|\n",
      "| zhao6|  21|50.8|本科|2.0339167946307284|\n",
      "|zheng7|  22|77.2|硕士|2.0339167946307284|\n",
      "| zhou8|  22|80.7|硕士|2.0339167946307284|\n",
      "+------+----+----+----+------------------+\n",
      "\n"
     ]
    }
   ],
   "source": [
    "import random\n",
    "df.withColumn('rand', lit(random.random() * 3)).show()"
   ]
  },
  {
   "cell_type": "code",
   "execution_count": 97,
   "metadata": {
    "scrolled": true
   },
   "outputs": [
    {
     "data": {
      "text/plain": [
       "DataFrame[姓名: string, 年龄: bigint, 体重: double, 学历: string, 年龄2: int]"
      ]
     },
     "execution_count": 97,
     "metadata": {},
     "output_type": "execute_result"
    }
   ],
   "source": [
    "# cast把一列转换数据类型\n",
    "df = df.withColumn(\"年龄2\", df[\"年龄\"].cast(\"int\"))\n",
    "df"
   ]
  },
  {
   "cell_type": "code",
   "execution_count": 26,
   "metadata": {},
   "outputs": [
    {
     "name": "stdout",
     "output_type": "stream",
     "text": [
      "+------+----+----+----+\n",
      "|  姓名|年龄|体重|学历|\n",
      "+------+----+----+----+\n",
      "|zhang3|  18|65.5|高中|\n",
      "|   li4|  19|50.3|本科|\n",
      "| wang5|  20|null|本科|\n",
      "| zhao6|  21|null|本科|\n",
      "|zheng7|  22|77.2|本科|\n",
      "| zhou8|  22|80.7|硕士|\n",
      "+------+----+----+----+\n",
      "\n"
     ]
    }
   ],
   "source": [
    "# 填充空值\n",
    "df2.fillna('本科', subset=['学历']).show()\n",
    "#df2.na.fill('本科', subset=['学历']) 和上面等价"
   ]
  },
  {
   "cell_type": "code",
   "execution_count": 98,
   "metadata": {},
   "outputs": [
    {
     "name": "stdout",
     "output_type": "stream",
     "text": [
      "+------------------+\n",
      "|         avg(年龄)|\n",
      "+------------------+\n",
      "|20.333333333333332|\n",
      "+------------------+\n",
      "\n",
      "+----+-----+\n",
      "|学历|count|\n",
      "+----+-----+\n",
      "|本科|    3|\n",
      "|硕士|    2|\n",
      "|高中|    1|\n",
      "+----+-----+\n",
      "\n",
      "+----------+\n",
      "|max(count)|\n",
      "+----------+\n",
      "|         3|\n",
      "+----------+\n",
      "\n"
     ]
    }
   ],
   "source": [
    "#求平均值\n",
    "import pyspark.sql.functions as fn\n",
    "df.select(fn.mean('年龄')).show()\n",
    "\n",
    "#对age去平均值\n",
    "# df.select(fn.mean('年龄'))和df.agg({\"age\":\"avg\"})等价\n",
    "\n",
    "#查看众数\n",
    "df.groupby('学历').count().sort('count',ascending=False).show()\n",
    "df.groupby('学历').count().sort('count',ascending=False).agg({\"count\":\"max\"}).show()"
   ]
  },
  {
   "cell_type": "code",
   "execution_count": 100,
   "metadata": {},
   "outputs": [
    {
     "name": "stdout",
     "output_type": "stream",
     "text": [
      "+------------------+\n",
      "|         avg(年龄)|\n",
      "+------------------+\n",
      "|20.333333333333332|\n",
      "+------------------+\n",
      "\n",
      "+---------+\n",
      "|sum(年龄)|\n",
      "+---------+\n",
      "|      122|\n",
      "+---------+\n",
      "\n"
     ]
    }
   ],
   "source": [
    "df.agg({\"年龄\":\"avg\"}).show()\n",
    "df.agg({\"年龄\":\"sum\"}).show()"
   ]
  },
  {
   "cell_type": "code",
   "execution_count": 101,
   "metadata": {},
   "outputs": [
    {
     "name": "stdout",
     "output_type": "stream",
     "text": [
      "+------+----+----+----+\n",
      "|  姓名|年龄|体重|学历|\n",
      "+------+----+----+----+\n",
      "|zhang3|  18|65.5|高中|\n",
      "|   li4|  19|50.3|本科|\n",
      "| wang5|  20|null|本科|\n",
      "| zhao6|  21|null|null|\n",
      "|zheng7|  22|77.2|null|\n",
      "| zhou8|  22|80.7|硕士|\n",
      "+------+----+----+----+\n",
      "\n"
     ]
    }
   ],
   "source": [
    "df2.show()"
   ]
  },
  {
   "cell_type": "code",
   "execution_count": 103,
   "metadata": {},
   "outputs": [
    {
     "name": "stdout",
     "output_type": "stream",
     "text": [
      "+------+----+----+-----+\n",
      "|  姓名|体重|学历|年龄2|\n",
      "+------+----+----+-----+\n",
      "|zhang3|65.5|高中|   18|\n",
      "|   li4|50.2|本科|   19|\n",
      "| wang5|61.2|本科|   20|\n",
      "| zhao6|50.8|本科|   21|\n",
      "|zheng7|77.2|硕士|   22|\n",
      "| zhou8|80.7|硕士|   22|\n",
      "+------+----+----+-----+\n",
      "\n",
      "+------+----+----+----+\n",
      "|  姓名|年龄|体重|学历|\n",
      "+------+----+----+----+\n",
      "|zhang3|  18|65.5|高中|\n",
      "|   li4|  19|50.3|本科|\n",
      "| zhou8|  22|80.7|硕士|\n",
      "+------+----+----+----+\n",
      "\n",
      "+------+----+----+----+\n",
      "|  姓名|年龄|体重|学历|\n",
      "+------+----+----+----+\n",
      "|zhang3|  18|65.5|高中|\n",
      "|   li4|  19|50.3|本科|\n",
      "| wang5|  20|null|本科|\n",
      "|zheng7|  22|77.2|null|\n",
      "| zhou8|  22|80.7|硕士|\n",
      "+------+----+----+----+\n",
      "\n"
     ]
    }
   ],
   "source": [
    "# 删除 \n",
    "# 删除列\n",
    "df.drop('年龄').show()\n",
    "# 删除含有空值的数据\n",
    "df2.dropna().show() #只要含有空值的行，全部删除\n",
    "#df2.na.drop() 和上面等价\n",
    "df2.dropna(thresh=3).show() #非空值的值个数<3个删除\n",
    "# 删除行（where/filter）"
   ]
  },
  {
   "cell_type": "code",
   "execution_count": 104,
   "metadata": {},
   "outputs": [
    {
     "name": "stdout",
     "output_type": "stream",
     "text": [
      "+------+---+----+----+\n",
      "|  姓名|age|体重|学历|\n",
      "+------+---+----+----+\n",
      "|zhang3| 18|65.5|高中|\n",
      "|   li4| 19|50.2|本科|\n",
      "+------+---+----+----+\n",
      "\n"
     ]
    }
   ],
   "source": [
    "#删除重复值\n",
    "df4.drop_duplicates().show()"
   ]
  },
  {
   "cell_type": "code",
   "execution_count": 105,
   "metadata": {},
   "outputs": [
    {
     "name": "stdout",
     "output_type": "stream",
     "text": [
      "+----+----+-------------------+-------------------+\n",
      "|姓名|年龄|               体重|               学历|\n",
      "+----+----+-------------------+-------------------+\n",
      "| 0.0| 0.0|0.33333333333333337|0.33333333333333337|\n",
      "+----+----+-------------------+-------------------+\n",
      "\n"
     ]
    }
   ],
   "source": [
    "# 求每一列的缺失值比例\n",
    "# 星号表示把后面的列表拆分成多个参数，分别传入函数\n",
    "df2.agg(*[(1-fn.count(C) / fn.count('*')).alias(C) for C in df2.columns]).show()"
   ]
  },
  {
   "cell_type": "code",
   "execution_count": 108,
   "metadata": {},
   "outputs": [
    {
     "name": "stdout",
     "output_type": "stream",
     "text": [
      "+------+----+----+----+------+----+\n",
      "|  姓名|年龄|体重|学历|  姓名|婚姻|\n",
      "+------+----+----+----+------+----+\n",
      "|zhang3|  18|65.5|高中|zhang3|未婚|\n",
      "|   li4|  19|50.2|本科|   li4|未婚|\n",
      "+------+----+----+----+------+----+\n",
      "\n"
     ]
    }
   ],
   "source": [
    "a = spark.createDataFrame(\n",
    "    [\n",
    "        ['zhang3', 18, 65.5, '高中'],\n",
    "        ['li4',19, 50.2, '本科'],\n",
    "        ['wang5', 20,61.2, '本科']\n",
    "    ], schema=['姓名','年龄','体重','学历']\n",
    ")\n",
    "b = spark.createDataFrame(\n",
    "    [\n",
    "        ['zhang3', '未婚'],\n",
    "        ['li4','未婚'],\n",
    "        ['zhao6', '未婚']\n",
    "    ], schema=['姓名','婚姻']\n",
    ")\n",
    "\n",
    "df_join = a.join(b, a.姓名 == b.姓名, \"inner\")\n",
    "df_join.show()"
   ]
  },
  {
   "cell_type": "code",
   "execution_count": 109,
   "metadata": {},
   "outputs": [
    {
     "name": "stdout",
     "output_type": "stream",
     "text": [
      "+----+----+----+----+----+----+----+\n",
      "|姓名|年龄|体重|学历|姓名|婚姻|学历|\n",
      "+----+----+----+----+----+----+----+\n",
      "| li4|  19|50.2|本科| li4|未婚|本科|\n",
      "+----+----+----+----+----+----+----+\n",
      "\n"
     ]
    }
   ],
   "source": [
    "a = spark.createDataFrame(\n",
    "    [\n",
    "        ['zhang3', 18, 65.5, '高中'],\n",
    "        ['li4',19, 50.2, '本科'],\n",
    "        ['wang5', 20,61.2, '本科']\n",
    "    ], schema=['姓名','年龄','体重','学历']\n",
    ")\n",
    "b = spark.createDataFrame(\n",
    "    [\n",
    "        ['zhang3', '未婚','本科'],\n",
    "        ['li4','未婚','本科'],\n",
    "        ['zhao6', '未婚','高中']\n",
    "    ], schema=['姓名','婚姻','学历']\n",
    ")\n",
    "a.join(b, [a.姓名 == b.姓名,a.学历==b.学历], \"inner\").show()"
   ]
  },
  {
   "cell_type": "code",
   "execution_count": 110,
   "metadata": {},
   "outputs": [
    {
     "data": {
      "text/plain": [
       "<pyspark.sql.group.GroupedData at 0x6a0b648>"
      ]
     },
     "execution_count": 110,
     "metadata": {},
     "output_type": "execute_result"
    }
   ],
   "source": [
    "groupedData = df.groupBy(\"学历\")\n",
    "groupedData"
   ]
  },
  {
   "cell_type": "code",
   "execution_count": 111,
   "metadata": {},
   "outputs": [
    {
     "name": "stdout",
     "output_type": "stream",
     "text": [
      "+----+---------+-----------------+----------+\n",
      "|学历|avg(年龄)|        avg(体重)|avg(年龄2)|\n",
      "+----+---------+-----------------+----------+\n",
      "|高中|     18.0|             65.5|      18.0|\n",
      "|硕士|     22.0|            78.95|      22.0|\n",
      "|本科|     20.0|54.06666666666666|      20.0|\n",
      "+----+---------+-----------------+----------+\n",
      "\n"
     ]
    }
   ],
   "source": [
    "groupedData.avg().show()"
   ]
  },
  {
   "cell_type": "code",
   "execution_count": 112,
   "metadata": {},
   "outputs": [
    {
     "name": "stdout",
     "output_type": "stream",
     "text": [
      "+----+---------+\n",
      "|学历|avg(年龄)|\n",
      "+----+---------+\n",
      "|高中|     18.0|\n",
      "|硕士|     22.0|\n",
      "|本科|     20.0|\n",
      "+----+---------+\n",
      "\n"
     ]
    }
   ],
   "source": [
    "groupedData.avg('年龄').show()"
   ]
  },
  {
   "cell_type": "code",
   "execution_count": null,
   "metadata": {},
   "outputs": [],
   "source": []
  },
  {
   "cell_type": "code",
   "execution_count": null,
   "metadata": {},
   "outputs": [],
   "source": []
  }
 ],
 "metadata": {
  "kernelspec": {
   "display_name": "study",
   "language": "python",
   "name": "study"
  },
  "language_info": {
   "codemirror_mode": {
    "name": "ipython",
    "version": 3
   },
   "file_extension": ".py",
   "mimetype": "text/x-python",
   "name": "python",
   "nbconvert_exporter": "python",
   "pygments_lexer": "ipython3",
   "version": "3.7.5"
  },
  "toc": {
   "base_numbering": 1,
   "nav_menu": {},
   "number_sections": true,
   "sideBar": true,
   "skip_h1_title": false,
   "title_cell": "Table of Contents",
   "title_sidebar": "Contents",
   "toc_cell": false,
   "toc_position": {},
   "toc_section_display": true,
   "toc_window_display": false
  },
  "varInspector": {
   "cols": {
    "lenName": 16,
    "lenType": 16,
    "lenVar": 40
   },
   "kernels_config": {
    "python": {
     "delete_cmd_postfix": "",
     "delete_cmd_prefix": "del ",
     "library": "var_list.py",
     "varRefreshCmd": "print(var_dic_list())"
    },
    "r": {
     "delete_cmd_postfix": ") ",
     "delete_cmd_prefix": "rm(",
     "library": "var_list.r",
     "varRefreshCmd": "cat(var_dic_list()) "
    }
   },
   "types_to_exclude": [
    "module",
    "function",
    "builtin_function_or_method",
    "instance",
    "_Feature"
   ],
   "window_display": false
  }
 },
 "nbformat": 4,
 "nbformat_minor": 2
}
