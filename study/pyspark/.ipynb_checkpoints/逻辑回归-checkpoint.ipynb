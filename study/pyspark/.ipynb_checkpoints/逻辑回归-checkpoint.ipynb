{
 "cells": [
  {
   "cell_type": "code",
   "execution_count": 1,
   "metadata": {},
   "outputs": [
    {
     "ename": "ModuleNotFoundError",
     "evalue": "No module named 'pyspark'",
     "output_type": "error",
     "traceback": [
      "\u001b[1;31m---------------------------------------------------------------------------\u001b[0m",
      "\u001b[1;31mModuleNotFoundError\u001b[0m                       Traceback (most recent call last)",
      "\u001b[1;32m<ipython-input-1-cfbf431b195c>\u001b[0m in \u001b[0;36m<module>\u001b[1;34m\u001b[0m\n\u001b[0;32m      1\u001b[0m \u001b[1;31m# 导入所需的包\u001b[0m\u001b[1;33m\u001b[0m\u001b[1;33m\u001b[0m\u001b[1;33m\u001b[0m\u001b[0m\n\u001b[1;32m----> 2\u001b[1;33m \u001b[1;32mfrom\u001b[0m \u001b[0mpyspark\u001b[0m\u001b[1;33m.\u001b[0m\u001b[0mml\u001b[0m \u001b[1;32mimport\u001b[0m \u001b[0mPipeline\u001b[0m\u001b[1;33m\u001b[0m\u001b[1;33m\u001b[0m\u001b[0m\n\u001b[0m\u001b[0;32m      3\u001b[0m \u001b[1;32mfrom\u001b[0m \u001b[0mpyspark\u001b[0m\u001b[1;33m.\u001b[0m\u001b[0mml\u001b[0m\u001b[1;33m.\u001b[0m\u001b[0mfeature\u001b[0m \u001b[1;32mimport\u001b[0m \u001b[0mVectorAssembler\u001b[0m\u001b[1;33m,\u001b[0m\u001b[0mStringIndexer\u001b[0m\u001b[1;33m\u001b[0m\u001b[1;33m\u001b[0m\u001b[0m\n\u001b[0;32m      4\u001b[0m \u001b[1;32mfrom\u001b[0m \u001b[0mpyspark\u001b[0m\u001b[1;33m.\u001b[0m\u001b[0mml\u001b[0m\u001b[1;33m.\u001b[0m\u001b[0mclassification\u001b[0m \u001b[1;32mimport\u001b[0m \u001b[0mLogisticRegression\u001b[0m\u001b[1;33m\u001b[0m\u001b[1;33m\u001b[0m\u001b[0m\n\u001b[0;32m      5\u001b[0m \u001b[1;32mfrom\u001b[0m \u001b[0mpyspark\u001b[0m\u001b[1;33m.\u001b[0m\u001b[0mml\u001b[0m\u001b[1;33m.\u001b[0m\u001b[0mevaluation\u001b[0m \u001b[1;32mimport\u001b[0m \u001b[0mBinaryClassificationEvaluator\u001b[0m\u001b[1;33m\u001b[0m\u001b[1;33m\u001b[0m\u001b[0m\n",
      "\u001b[1;31mModuleNotFoundError\u001b[0m: No module named 'pyspark'"
     ]
    }
   ],
   "source": [
    "# 导入所需的包\n",
    "from pyspark.ml import Pipeline\n",
    "from pyspark.ml.feature import VectorAssembler,StringIndexer\n",
    "from pyspark.ml.classification import LogisticRegression\n",
    "from pyspark.ml.evaluation import BinaryClassificationEvaluator\n",
    "from pyspark.sql.functions import col\n",
    "\n",
    "# 加载数据\n",
    "file = \"file:/root/pyspark_code/pyspark/data/train.csv\"\n",
    "\n",
    "titanic_data = spark.read.option(\"header\", \"true\").option(\"inferSchema\",\"true\").csv(file)\n",
    "\n",
    "# 简单探索\n",
    "print(\"乘客共有\" + str(titanic_data.count()) + \"位\")\n",
    "titanic_data.show(5,truncate=False)"
   ]
  },
  {
   "cell_type": "code",
   "execution_count": 3,
   "metadata": {},
   "outputs": [
    {
     "name": "stdout",
     "output_type": "stream",
     "text": [
      "root\n",
      " |-- PassengerId: integer (nullable = true)\n",
      " |-- Survived: integer (nullable = true)\n",
      " |-- Pclass: integer (nullable = true)\n",
      " |-- Name: string (nullable = true)\n",
      " |-- Sex: string (nullable = true)\n",
      " |-- Age: double (nullable = true)\n",
      " |-- SibSp: integer (nullable = true)\n",
      " |-- Parch: integer (nullable = true)\n",
      " |-- Ticket: string (nullable = true)\n",
      " |-- Fare: double (nullable = true)\n",
      " |-- Cabin: string (nullable = true)\n",
      " |-- Embarked: string (nullable = true)\n",
      "\n"
     ]
    }
   ],
   "source": [
    "# 探索模式schema\n",
    "titanic_data.printSchema()"
   ]
  },
  {
   "cell_type": "code",
   "execution_count": 4,
   "metadata": {},
   "outputs": [
    {
     "name": "stdout",
     "output_type": "stream",
     "text": [
      "581 133\n"
     ]
    }
   ],
   "source": [
    "# 首先，我们只使用三个特征过滤出年龄为空的行\n",
    "\n",
    "titanic_data1 = titanic_data.select(\n",
    "\tcol('Survived').alias('label'),\n",
    "\tcol('Pclass').alias('ticket_class'),\n",
    "\tcol('Sex').alias('gender'),\n",
    "\tcol('Age').alias('age'),\n",
    "\t).filter('age is not null')\n",
    "\n",
    "# 将数据分成训练集（80%）和测试集（20%）\n",
    "training, test = titanic_data1.randomSplit((0.8, 0.2))\n",
    "\n",
    "print(training.count(), test.count())"
   ]
  },
  {
   "cell_type": "code",
   "execution_count": 5,
   "metadata": {},
   "outputs": [
    {
     "name": "stdout",
     "output_type": "stream",
     "text": [
      "+-----+------------+------+----+\n",
      "|label|ticket_class|gender| age|\n",
      "+-----+------------+------+----+\n",
      "|    0|           1|female| 2.0|\n",
      "|    0|           1|female|25.0|\n",
      "|    0|           1|female|50.0|\n",
      "|    0|           1|  male|18.0|\n",
      "|    0|           1|  male|19.0|\n",
      "|    0|           1|  male|21.0|\n",
      "|    0|           1|  male|22.0|\n",
      "|    0|           1|  male|24.0|\n",
      "|    0|           1|  male|24.0|\n",
      "|    0|           1|  male|27.0|\n",
      "+-----+------------+------+----+\n",
      "only showing top 10 rows\n",
      "\n"
     ]
    }
   ],
   "source": [
    "training.show(10)"
   ]
  },
  {
   "cell_type": "code",
   "execution_count": 7,
   "metadata": {},
   "outputs": [
    {
     "name": "stdout",
     "output_type": "stream",
     "text": [
      "+-----+------------+------+----+---------+--------------+------------------------------------------+----------------------------------------+----------+\n",
      "|label|ticket_class|gender|age |genderIdx|features      |rawPrediction                             |probability                             |prediction|\n",
      "+-----+------------+------+----+---------+--------------+------------------------------------------+----------------------------------------+----------+\n",
      "|0    |1           |male  |19.0|0.0      |[1.0,0.0,19.0]|[-0.5741042873386117,0.5741042873386117]  |[0.3602903223516371,0.639709677648363]  |1.0       |\n",
      "|0    |1           |male  |28.0|0.0      |[1.0,0.0,28.0]|[-0.22280644139050043,0.22280644139050043]|[0.4445276830207755,0.5554723169792245] |1.0       |\n",
      "|0    |1           |male  |31.0|0.0      |[1.0,0.0,31.0]|[-0.10570715940779607,0.10570715940779607]|[0.47359779043602906,0.526402209563971] |1.0       |\n",
      "|0    |1           |male  |31.0|0.0      |[1.0,0.0,31.0]|[-0.10570715940779607,0.10570715940779607]|[0.47359779043602906,0.526402209563971] |1.0       |\n",
      "|0    |1           |male  |36.0|0.0      |[1.0,0.0,36.0]|[0.08945831056337727,-0.08945831056337727]|[0.5223496746503393,0.4776503253496607] |0.0       |\n",
      "|0    |1           |male  |38.0|0.0      |[1.0,0.0,38.0]|[0.16752449855184626,-0.16752449855184626]|[0.5417834511568606,0.45821654884313945]|0.0       |\n",
      "|0    |1           |male  |40.0|0.0      |[1.0,0.0,40.0]|[0.24559068654031524,-0.24559068654031524]|[0.56109092270329,0.43890907729671]     |0.0       |\n",
      "|0    |1           |male  |71.0|0.0      |[1.0,0.0,71.0]|[1.455616600361589,-1.455616600361589]    |[0.8108613295455617,0.18913867045443825]|0.0       |\n",
      "|0    |1           |male  |71.0|0.0      |[1.0,0.0,71.0]|[1.455616600361589,-1.455616600361589]    |[0.8108613295455617,0.18913867045443825]|0.0       |\n",
      "|0    |2           |female|57.0|1.0      |[2.0,1.0,57.0]|[-0.24846076737718725,0.24846076737718725]|[0.4382023929108195,0.5617976070891805] |1.0       |\n",
      "+-----+------------+------+----+---------+--------------+------------------------------------------+----------------------------------------+----------+\n",
      "only showing top 10 rows\n",
      "\n"
     ]
    }
   ],
   "source": [
    "# estimator: 将gender字符串转换为数值\n",
    "genderIndxr = StringIndexer(inputCol=\"gender\", outputCol=\"genderIdx\")\n",
    "\n",
    "# transfomer: 将这些特征组合成一个矢量\n",
    "assembler = VectorAssembler(inputCols=[\"ticket_class\",\"genderIdx\", \"age\"], outputCol=\"features\")\n",
    "\n",
    "# estimator: logistic回归算法。family值：\"auto\"、\"binomial\"、\"multinomial\"\n",
    "logisticRegression = LogisticRegression(family=\"binomial\")\n",
    "\n",
    "# 设置三个阶段的管道\n",
    "pipeline = Pipeline(stages=(genderIndxr,assembler,logisticRegression))\n",
    "\n",
    "# 使用训练数据集训练该算法\n",
    "model = pipeline.fit(training)\n",
    "\n",
    "# 执行预测\n",
    "predictions = model.transform(test) #多出一列prediction\n",
    "predictions.show(10,truncate=False)"
   ]
  },
  {
   "cell_type": "code",
   "execution_count": 8,
   "metadata": {},
   "outputs": [
    {
     "data": {
      "text/plain": [
       "0.8822463768115945"
      ]
     },
     "execution_count": 8,
     "metadata": {},
     "output_type": "execute_result"
    }
   ],
   "source": [
    "# 执行模型性能的评估，默认的度量标准是ROC下面的面积\n",
    "evaluator = BinaryClassificationEvaluator()\n",
    "evaluator.evaluate(predictions)"
   ]
  },
  {
   "cell_type": "code",
   "execution_count": null,
   "metadata": {},
   "outputs": [],
   "source": []
  },
  {
   "cell_type": "code",
   "execution_count": null,
   "metadata": {},
   "outputs": [],
   "source": []
  }
 ],
 "metadata": {
  "kernelspec": {
   "display_name": "Python 3",
   "language": "python",
   "name": "python3"
  },
  "language_info": {
   "codemirror_mode": {
    "name": "ipython",
    "version": 3
   },
   "file_extension": ".py",
   "mimetype": "text/x-python",
   "name": "python",
   "nbconvert_exporter": "python",
   "pygments_lexer": "ipython3",
   "version": "3.7.5"
  },
  "toc": {
   "base_numbering": 1,
   "nav_menu": {},
   "number_sections": true,
   "sideBar": true,
   "skip_h1_title": false,
   "title_cell": "Table of Contents",
   "title_sidebar": "Contents",
   "toc_cell": false,
   "toc_position": {},
   "toc_section_display": true,
   "toc_window_display": false
  },
  "varInspector": {
   "cols": {
    "lenName": 16,
    "lenType": 16,
    "lenVar": 40
   },
   "kernels_config": {
    "python": {
     "delete_cmd_postfix": "",
     "delete_cmd_prefix": "del ",
     "library": "var_list.py",
     "varRefreshCmd": "print(var_dic_list())"
    },
    "r": {
     "delete_cmd_postfix": ") ",
     "delete_cmd_prefix": "rm(",
     "library": "var_list.r",
     "varRefreshCmd": "cat(var_dic_list()) "
    }
   },
   "types_to_exclude": [
    "module",
    "function",
    "builtin_function_or_method",
    "instance",
    "_Feature"
   ],
   "window_display": false
  }
 },
 "nbformat": 4,
 "nbformat_minor": 2
}
