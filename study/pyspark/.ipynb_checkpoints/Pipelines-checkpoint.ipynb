{
 "cells": [
  {
   "cell_type": "markdown",
   "metadata": {},
   "source": [
    "# Pipelines\n",
    "### 下图中描述的小的管道由两个transformers和一个estimator组成:\n",
    "### 当调用Pipeline.fit()函数时，包含原始文本的输入DataFrame将被传递给Tokenizer transformer\n",
    "### 其输出将被传递到HashingTF transformer，它将单词转换为特征\n",
    "### 该Pipeline认识到LogisticRegression是一个estimator，因此它将调用fit函数和计算特征来产生一个\n",
    "### LogisticRegressionModel"
   ]
  },
  {
   "cell_type": "code",
   "execution_count": 6,
   "metadata": {},
   "outputs": [
    {
     "name": "stdout",
     "output_type": "stream",
     "text": [
      "+---+--------------------+-----+\n",
      "| id|                line|label|\n",
      "+---+--------------------+-----+\n",
      "|  1|Spark is a unifie...|  0.0|\n",
      "|  2|Spark is cool and...|  0.0|\n",
      "|  3|There is a lot of...|  0.0|\n",
      "|  4|signup to win a m...|  0.0|\n",
      "+---+--------------------+-----+\n",
      "\n"
     ]
    }
   ],
   "source": [
    "# 使用管道（Pipeline）创建一个小型工作流\n",
    "from pyspark.ml import Pipeline, PipelineModel\n",
    "from pyspark.ml.classification import LogisticRegression\n",
    "from pyspark.ml.feature import HashingTF, Tokenizer\n",
    "\n",
    "from pyspark.sql import SparkSession\n",
    "\n",
    "spark = SparkSession.builder.master(\"local\").appName(\"spark-python\").getOrCreate()\n",
    "# 构造一个DataFrame\n",
    "text_data = spark.createDataFrame(\n",
    "[\n",
    "[1, \"Spark is a unified data analytics engine\", 0.0],\n",
    "[2, \"Spark is cool and it is fun to work with Spark\", 0.0],\n",
    "[3, \"There is a lot of exciting sessions at upcoming Spark summit\", 0.0],\n",
    "[4, \"signup to win a million dollars\", 0.0]\n",
    "], schema=[\"id\", \"line\", \"label\"])\n",
    "text_data.show()"
   ]
  },
  {
   "cell_type": "code",
   "execution_count": 7,
   "metadata": {},
   "outputs": [],
   "source": [
    "# 第一个阶段transformer\n",
    "tokenizer = Tokenizer(inputCol = \"line\", outputCol=\"words\")\n",
    "\n",
    "# 第二个阶段transformer (第一个阶段的输出作为第二个阶段的输入)\n",
    "hashingTF = HashingTF(inputCol = \"words\", outputCol = \"features\", numFeatures =4096)\n",
    "# 第三个阶段estimator\n",
    "logisticReg = LogisticRegression(maxIter=5, regParam = 0.01)"
   ]
  },
  {
   "cell_type": "code",
   "execution_count": 8,
   "metadata": {},
   "outputs": [],
   "source": [
    "# 构造一个管道，由以上三个阶段组成\n",
    "pipeline = Pipeline(stages = [tokenizer, hashingTF, logisticReg])\n",
    "# 触发各阶段的顺序执行\n",
    "logisticRegModel = pipeline.fit(text_data)"
   ]
  },
  {
   "cell_type": "code",
   "execution_count": 9,
   "metadata": {},
   "outputs": [],
   "source": [
    "from pyspark.sql import SparkSession"
   ]
  },
  {
   "cell_type": "markdown",
   "metadata": {},
   "source": [
    "# 保存模型和管道(持久化到HDFS上)"
   ]
  },
  {
   "cell_type": "code",
   "execution_count": null,
   "metadata": {},
   "outputs": [],
   "source": [
    "logisticRegModel.save(\"/logistic-regression-model\")\n",
    "pipeline.save(\"/logistic-regression-pipeline\")"
   ]
  },
  {
   "cell_type": "markdown",
   "metadata": {},
   "source": [
    "# 加载模型和管道(从HDFS上加载)\n",
    "prevModel = PipelineModel.load(\"/logistic-regression-model\")\n",
    "prevPipeline = Pipeline.load(\"/logistic-regression-pipeline\")"
   ]
  },
  {
   "cell_type": "code",
   "execution_count": null,
   "metadata": {
    "scrolled": true
   },
   "outputs": [],
   "source": [
    "# 使用学习到的模型对数据进行转换\n",
    "logisticRegModel.transform(text_data).show() # 如果想显示全部内容，传入false参数"
   ]
  },
  {
   "cell_type": "code",
   "execution_count": null,
   "metadata": {},
   "outputs": [],
   "source": []
  },
  {
   "cell_type": "code",
   "execution_count": null,
   "metadata": {},
   "outputs": [],
   "source": []
  }
 ],
 "metadata": {
  "kernelspec": {
   "display_name": "study",
   "language": "python",
   "name": "study"
  },
  "language_info": {
   "codemirror_mode": {
    "name": "ipython",
    "version": 3
   },
   "file_extension": ".py",
   "mimetype": "text/x-python",
   "name": "python",
   "nbconvert_exporter": "python",
   "pygments_lexer": "ipython3",
   "version": "3.7.5"
  },
  "toc": {
   "base_numbering": 1,
   "nav_menu": {},
   "number_sections": true,
   "sideBar": true,
   "skip_h1_title": false,
   "title_cell": "Table of Contents",
   "title_sidebar": "Contents",
   "toc_cell": false,
   "toc_position": {},
   "toc_section_display": true,
   "toc_window_display": true
  },
  "varInspector": {
   "cols": {
    "lenName": 16,
    "lenType": 16,
    "lenVar": 40
   },
   "kernels_config": {
    "python": {
     "delete_cmd_postfix": "",
     "delete_cmd_prefix": "del ",
     "library": "var_list.py",
     "varRefreshCmd": "print(var_dic_list())"
    },
    "r": {
     "delete_cmd_postfix": ") ",
     "delete_cmd_prefix": "rm(",
     "library": "var_list.r",
     "varRefreshCmd": "cat(var_dic_list()) "
    }
   },
   "types_to_exclude": [
    "module",
    "function",
    "builtin_function_or_method",
    "instance",
    "_Feature"
   ],
   "window_display": false
  }
 },
 "nbformat": 4,
 "nbformat_minor": 2
}
